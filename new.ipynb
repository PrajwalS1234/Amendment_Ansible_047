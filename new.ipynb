{
 "cells": [
  {
   "cell_type": "code",
   "execution_count": 2,
   "metadata": {},
   "outputs": [],
   "source": [
    "import pandas as pd\n",
    "import numpy as np\n",
    "import seaborn as sns\n",
    "import matplotlib.pyplot as plt\n",
    "import openpyxl"
   ]
  },
  {
   "cell_type": "code",
   "execution_count": null,
   "metadata": {},
   "outputs": [],
   "source": [
    "#df1=pd.read_excel(r\"C:\\Users\\bhupe\\Downloads\\Construct week 2\\BonusCost_Data.xlsx\")\n",
    "#df2=pd.read_excel(r\"C:\\Users\\bhupe\\Downloads\\Construct week 2\\First_Bet_Data.xlsx\")\n",
    "#df3=pd.read_excel(r\"C:\\Users\\bhupe\\Downloads\\Construct week 2\\First_Deposit_Data.xlsx\")\n",
    "#df4=pd.read_excel(r\"C:\\Users\\bhupe\\Downloads\\Construct week 2\\Player_Activity_Data.xlsx\")\n",
    "#df5=pd.read_excel(r\"C:\\Users\\bhupe\\Downloads\\Construct week 2\\Player_Details.xlsx\")"
   ]
  },
  {
   "cell_type": "code",
   "execution_count": 6,
   "metadata": {},
   "outputs": [
    {
     "name": "stderr",
     "output_type": "stream",
     "text": [
      "C:\\Users\\bhupe\\AppData\\Local\\Temp\\ipykernel_7132\\1965936493.py:1: DtypeWarning: Columns (0,1,2,3,4,5,6) have mixed types. Specify dtype option on import or set low_memory=False.\n",
      "  Player_details=pd.read_csv(r\"C:\\Users\\bhupe\\Downloads\\Construct week 2\\Player_Details CSV.csv\")\n",
      "C:\\Users\\bhupe\\AppData\\Local\\Temp\\ipykernel_7132\\1965936493.py:2: DtypeWarning: Columns (0,4,5,6,7,8) have mixed types. Specify dtype option on import or set low_memory=False.\n",
      "  player_activity=pd.read_csv(r\"C:\\Users\\bhupe\\Downloads\\Construct week 2\\Player_Activity_Data CSV.csv\")\n",
      "C:\\Users\\bhupe\\AppData\\Local\\Temp\\ipykernel_7132\\1965936493.py:4: DtypeWarning: Columns (0,2) have mixed types. Specify dtype option on import or set low_memory=False.\n",
      "  first_bet=pd.read_csv(r\"C:\\Users\\bhupe\\Downloads\\Construct week 2\\First_Bet_Data CSV.csv\")\n"
     ]
    }
   ],
   "source": [
    "Player_details=pd.read_csv(r\"C:\\Users\\bhupe\\Downloads\\Construct week 2\\Player_Details CSV.csv\")\n",
    "player_activity=pd.read_csv(r\"C:\\Users\\bhupe\\Downloads\\Construct week 2\\Player_Activity_Data CSV.csv\")\n",
    "fixed_deposit=pd.read_csv(r\"C:\\Users\\bhupe\\Downloads\\Construct week 2\\First_Deposit_Data CSV.csv\")\n",
    "first_bet=pd.read_csv(r\"C:\\Users\\bhupe\\Downloads\\Construct week 2\\First_Bet_Data CSV.csv\")\n",
    "bonus_Cost=pd.read_csv(r\"C:\\Users\\bhupe\\Downloads\\Construct week 2\\BonusCost_Data CSV.csv\")\n"
   ]
  },
  {
   "cell_type": "markdown",
   "metadata": {},
   "source": [
    "TABLE 1 CLEANING (Player_details)"
   ]
  },
  {
   "cell_type": "code",
   "execution_count": 37,
   "metadata": {},
   "outputs": [
    {
     "data": {
      "text/html": [
       "<div>\n",
       "<style scoped>\n",
       "    .dataframe tbody tr th:only-of-type {\n",
       "        vertical-align: middle;\n",
       "    }\n",
       "\n",
       "    .dataframe tbody tr th {\n",
       "        vertical-align: top;\n",
       "    }\n",
       "\n",
       "    .dataframe thead th {\n",
       "        text-align: right;\n",
       "    }\n",
       "</style>\n",
       "<table border=\"1\" class=\"dataframe\">\n",
       "  <thead>\n",
       "    <tr style=\"text-align: right;\">\n",
       "      <th></th>\n",
       "      <th>Unnamed: 0</th>\n",
       "      <th>Unnamed: 1</th>\n",
       "      <th>Unnamed: 2</th>\n",
       "      <th>Unnamed: 3</th>\n",
       "      <th>Unnamed: 4</th>\n",
       "      <th>Unnamed: 5</th>\n",
       "      <th>Unnamed: 6</th>\n",
       "    </tr>\n",
       "  </thead>\n",
       "  <tbody>\n",
       "    <tr>\n",
       "      <th>0</th>\n",
       "      <td>Src_Player_Id</td>\n",
       "      <td>Signup_Date</td>\n",
       "      <td>acquisition_channel</td>\n",
       "      <td>src_advertiser_id</td>\n",
       "      <td>Gender</td>\n",
       "      <td>Date_Of_Birth</td>\n",
       "      <td>Internal_Player_YN</td>\n",
       "    </tr>\n",
       "    <tr>\n",
       "      <th>1</th>\n",
       "      <td>12584958</td>\n",
       "      <td>2019-02-23 17:24:49</td>\n",
       "      <td>NaN</td>\n",
       "      <td>999999</td>\n",
       "      <td>M</td>\n",
       "      <td>1991-08-05 00:00:00</td>\n",
       "      <td>N</td>\n",
       "    </tr>\n",
       "    <tr>\n",
       "      <th>2</th>\n",
       "      <td>12356925</td>\n",
       "      <td>2019-01-07 15:57:11</td>\n",
       "      <td>NaN</td>\n",
       "      <td>999999</td>\n",
       "      <td>M</td>\n",
       "      <td>1993-09-09 00:00:00</td>\n",
       "      <td>N</td>\n",
       "    </tr>\n",
       "    <tr>\n",
       "      <th>3</th>\n",
       "      <td>12500831</td>\n",
       "      <td>2019-02-10 08:31:13</td>\n",
       "      <td>NaN</td>\n",
       "      <td>999999</td>\n",
       "      <td>M</td>\n",
       "      <td>1971-10-15 00:00:00</td>\n",
       "      <td>N</td>\n",
       "    </tr>\n",
       "    <tr>\n",
       "      <th>4</th>\n",
       "      <td>12660009</td>\n",
       "      <td>2019-03-12 09:42:53</td>\n",
       "      <td>NaN</td>\n",
       "      <td>999999</td>\n",
       "      <td>M</td>\n",
       "      <td>2000-12-15 00:00:00</td>\n",
       "      <td>N</td>\n",
       "    </tr>\n",
       "  </tbody>\n",
       "</table>\n",
       "</div>"
      ],
      "text/plain": [
       "      Unnamed: 0           Unnamed: 1           Unnamed: 2         Unnamed: 3  \\\n",
       "0  Src_Player_Id          Signup_Date  acquisition_channel  src_advertiser_id   \n",
       "1       12584958  2019-02-23 17:24:49                  NaN             999999   \n",
       "2       12356925  2019-01-07 15:57:11                  NaN             999999   \n",
       "3       12500831  2019-02-10 08:31:13                  NaN             999999   \n",
       "4       12660009  2019-03-12 09:42:53                  NaN             999999   \n",
       "\n",
       "  Unnamed: 4           Unnamed: 5          Unnamed: 6  \n",
       "0     Gender        Date_Of_Birth  Internal_Player_YN  \n",
       "1         M   1991-08-05 00:00:00                  N   \n",
       "2         M   1993-09-09 00:00:00                  N   \n",
       "3         M   1971-10-15 00:00:00                  N   \n",
       "4         M   2000-12-15 00:00:00                  N   "
      ]
     },
     "execution_count": 37,
     "metadata": {},
     "output_type": "execute_result"
    }
   ],
   "source": [
    "Player_details.head()"
   ]
  },
  {
   "cell_type": "code",
   "execution_count": 38,
   "metadata": {},
   "outputs": [],
   "source": [
    "Player_details.columns=Player_details.iloc[0]\n",
    "Player_details=Player_details[1:]\n"
   ]
  },
  {
   "cell_type": "code",
   "execution_count": 39,
   "metadata": {},
   "outputs": [],
   "source": [
    "Player_details =Player_details.reset_index(drop=True)"
   ]
  },
  {
   "cell_type": "code",
   "execution_count": 40,
   "metadata": {},
   "outputs": [
    {
     "data": {
      "text/html": [
       "<div>\n",
       "<style scoped>\n",
       "    .dataframe tbody tr th:only-of-type {\n",
       "        vertical-align: middle;\n",
       "    }\n",
       "\n",
       "    .dataframe tbody tr th {\n",
       "        vertical-align: top;\n",
       "    }\n",
       "\n",
       "    .dataframe thead th {\n",
       "        text-align: right;\n",
       "    }\n",
       "</style>\n",
       "<table border=\"1\" class=\"dataframe\">\n",
       "  <thead>\n",
       "    <tr style=\"text-align: right;\">\n",
       "      <th></th>\n",
       "      <th>Src_Player_Id</th>\n",
       "      <th>Signup_Date</th>\n",
       "      <th>acquisition_channel</th>\n",
       "      <th>src_advertiser_id</th>\n",
       "      <th>Gender</th>\n",
       "      <th>Date_Of_Birth</th>\n",
       "      <th>Internal_Player_YN</th>\n",
       "    </tr>\n",
       "  </thead>\n",
       "  <tbody>\n",
       "    <tr>\n",
       "      <th>0</th>\n",
       "      <td>12584958</td>\n",
       "      <td>2019-02-23 17:24:49</td>\n",
       "      <td>NaN</td>\n",
       "      <td>999999</td>\n",
       "      <td>M</td>\n",
       "      <td>1991-08-05 00:00:00</td>\n",
       "      <td>N</td>\n",
       "    </tr>\n",
       "    <tr>\n",
       "      <th>1</th>\n",
       "      <td>12356925</td>\n",
       "      <td>2019-01-07 15:57:11</td>\n",
       "      <td>NaN</td>\n",
       "      <td>999999</td>\n",
       "      <td>M</td>\n",
       "      <td>1993-09-09 00:00:00</td>\n",
       "      <td>N</td>\n",
       "    </tr>\n",
       "    <tr>\n",
       "      <th>2</th>\n",
       "      <td>12500831</td>\n",
       "      <td>2019-02-10 08:31:13</td>\n",
       "      <td>NaN</td>\n",
       "      <td>999999</td>\n",
       "      <td>M</td>\n",
       "      <td>1971-10-15 00:00:00</td>\n",
       "      <td>N</td>\n",
       "    </tr>\n",
       "    <tr>\n",
       "      <th>3</th>\n",
       "      <td>12660009</td>\n",
       "      <td>2019-03-12 09:42:53</td>\n",
       "      <td>NaN</td>\n",
       "      <td>999999</td>\n",
       "      <td>M</td>\n",
       "      <td>2000-12-15 00:00:00</td>\n",
       "      <td>N</td>\n",
       "    </tr>\n",
       "    <tr>\n",
       "      <th>4</th>\n",
       "      <td>12447120</td>\n",
       "      <td>2019-01-28 09:53:42</td>\n",
       "      <td>NaN</td>\n",
       "      <td>999999</td>\n",
       "      <td>M</td>\n",
       "      <td>1994-03-07 00:00:00</td>\n",
       "      <td>N</td>\n",
       "    </tr>\n",
       "  </tbody>\n",
       "</table>\n",
       "</div>"
      ],
      "text/plain": [
       "0 Src_Player_Id          Signup_Date acquisition_channel src_advertiser_id  \\\n",
       "0      12584958  2019-02-23 17:24:49                 NaN            999999   \n",
       "1      12356925  2019-01-07 15:57:11                 NaN            999999   \n",
       "2      12500831  2019-02-10 08:31:13                 NaN            999999   \n",
       "3      12660009  2019-03-12 09:42:53                 NaN            999999   \n",
       "4      12447120  2019-01-28 09:53:42                 NaN            999999   \n",
       "\n",
       "0 Gender        Date_Of_Birth Internal_Player_YN  \n",
       "0     M   1991-08-05 00:00:00                 N   \n",
       "1     M   1993-09-09 00:00:00                 N   \n",
       "2     M   1971-10-15 00:00:00                 N   \n",
       "3     M   2000-12-15 00:00:00                 N   \n",
       "4     M   1994-03-07 00:00:00                 N   "
      ]
     },
     "execution_count": 40,
     "metadata": {},
     "output_type": "execute_result"
    }
   ],
   "source": [
    "Player_details.head()"
   ]
  },
  {
   "cell_type": "code",
   "execution_count": 41,
   "metadata": {},
   "outputs": [
    {
     "data": {
      "text/plain": [
       "(1048574, 7)"
      ]
     },
     "execution_count": 41,
     "metadata": {},
     "output_type": "execute_result"
    }
   ],
   "source": [
    "Player_details.shape"
   ]
  },
  {
   "cell_type": "code",
   "execution_count": 42,
   "metadata": {},
   "outputs": [
    {
     "data": {
      "text/plain": [
       "0\n",
       "Src_Player_Id          755789\n",
       "Signup_Date            755789\n",
       "acquisition_channel    847295\n",
       "src_advertiser_id      757855\n",
       "Gender                 755800\n",
       "Date_Of_Birth          755789\n",
       "Internal_Player_YN     755789\n",
       "dtype: int64"
      ]
     },
     "execution_count": 42,
     "metadata": {},
     "output_type": "execute_result"
    }
   ],
   "source": [
    "Player_details.isnull().sum()"
   ]
  },
  {
   "cell_type": "code",
   "execution_count": 43,
   "metadata": {},
   "outputs": [],
   "source": [
    "Player_details=Player_details.dropna()"
   ]
  },
  {
   "cell_type": "code",
   "execution_count": 44,
   "metadata": {},
   "outputs": [
    {
     "data": {
      "text/plain": [
       "0\n",
       "Src_Player_Id          0\n",
       "Signup_Date            0\n",
       "acquisition_channel    0\n",
       "src_advertiser_id      0\n",
       "Gender                 0\n",
       "Date_Of_Birth          0\n",
       "Internal_Player_YN     0\n",
       "dtype: int64"
      ]
     },
     "execution_count": 44,
     "metadata": {},
     "output_type": "execute_result"
    }
   ],
   "source": [
    "Player_details.isnull().sum()"
   ]
  },
  {
   "cell_type": "markdown",
   "metadata": {},
   "source": [
    "TABLE 2 Cleaning (Player_activity)"
   ]
  },
  {
   "cell_type": "code",
   "execution_count": 20,
   "metadata": {},
   "outputs": [],
   "source": [
    "player_activity.head()\n",
    "player_activity.columns=player_activity.iloc[0]\n",
    "player_activity=player_activity[1:]\n",
    "player_activity=player_activity.reset_index(drop=True)\n"
   ]
  },
  {
   "cell_type": "code",
   "execution_count": 21,
   "metadata": {},
   "outputs": [
    {
     "data": {
      "text/html": [
       "<div>\n",
       "<style scoped>\n",
       "    .dataframe tbody tr th:only-of-type {\n",
       "        vertical-align: middle;\n",
       "    }\n",
       "\n",
       "    .dataframe tbody tr th {\n",
       "        vertical-align: top;\n",
       "    }\n",
       "\n",
       "    .dataframe thead th {\n",
       "        text-align: right;\n",
       "    }\n",
       "</style>\n",
       "<table border=\"1\" class=\"dataframe\">\n",
       "  <thead>\n",
       "    <tr style=\"text-align: right;\">\n",
       "      <th></th>\n",
       "      <th>src_player_id</th>\n",
       "      <th>ActivityMonth</th>\n",
       "      <th>Product</th>\n",
       "      <th>SubProduct</th>\n",
       "      <th>ActivePlayerDays</th>\n",
       "      <th>Bet_Amount</th>\n",
       "      <th>Win_Amount</th>\n",
       "      <th>Gross_Win</th>\n",
       "      <th>Net_Gross_Win</th>\n",
       "    </tr>\n",
       "  </thead>\n",
       "  <tbody>\n",
       "    <tr>\n",
       "      <th>0</th>\n",
       "      <td>16585649</td>\n",
       "      <td>2020-08-31</td>\n",
       "      <td>SportsBook</td>\n",
       "      <td>Livebook</td>\n",
       "      <td>1</td>\n",
       "      <td>500</td>\n",
       "      <td>0</td>\n",
       "      <td>500</td>\n",
       "      <td>420</td>\n",
       "    </tr>\n",
       "    <tr>\n",
       "      <th>1</th>\n",
       "      <td>12845036</td>\n",
       "      <td>2019-05-31</td>\n",
       "      <td>SportsBook</td>\n",
       "      <td>Prematch</td>\n",
       "      <td>28</td>\n",
       "      <td>1229</td>\n",
       "      <td>1178</td>\n",
       "      <td>42</td>\n",
       "      <td>35</td>\n",
       "    </tr>\n",
       "    <tr>\n",
       "      <th>2</th>\n",
       "      <td>12720869</td>\n",
       "      <td>2021-06-30</td>\n",
       "      <td>eGaming</td>\n",
       "      <td>Non Table Games</td>\n",
       "      <td>1</td>\n",
       "      <td>73</td>\n",
       "      <td>46</td>\n",
       "      <td>27</td>\n",
       "      <td>23</td>\n",
       "    </tr>\n",
       "    <tr>\n",
       "      <th>3</th>\n",
       "      <td>18979743</td>\n",
       "      <td>2021-02-28</td>\n",
       "      <td>eGaming</td>\n",
       "      <td>Non Table Games</td>\n",
       "      <td>1</td>\n",
       "      <td>52</td>\n",
       "      <td>22</td>\n",
       "      <td>30</td>\n",
       "      <td>25</td>\n",
       "    </tr>\n",
       "    <tr>\n",
       "      <th>4</th>\n",
       "      <td>12580168</td>\n",
       "      <td>2020-12-31</td>\n",
       "      <td>eGaming</td>\n",
       "      <td>Non Table Games</td>\n",
       "      <td>1</td>\n",
       "      <td>74</td>\n",
       "      <td>55</td>\n",
       "      <td>19</td>\n",
       "      <td>16</td>\n",
       "    </tr>\n",
       "    <tr>\n",
       "      <th>...</th>\n",
       "      <td>...</td>\n",
       "      <td>...</td>\n",
       "      <td>...</td>\n",
       "      <td>...</td>\n",
       "      <td>...</td>\n",
       "      <td>...</td>\n",
       "      <td>...</td>\n",
       "      <td>...</td>\n",
       "      <td>...</td>\n",
       "    </tr>\n",
       "    <tr>\n",
       "      <th>860225</th>\n",
       "      <td>13439064</td>\n",
       "      <td>2019-09-30</td>\n",
       "      <td>SportsBook</td>\n",
       "      <td>Livebook</td>\n",
       "      <td>2</td>\n",
       "      <td>255</td>\n",
       "      <td>0</td>\n",
       "      <td>255</td>\n",
       "      <td>214</td>\n",
       "    </tr>\n",
       "    <tr>\n",
       "      <th>860226</th>\n",
       "      <td>16005291</td>\n",
       "      <td>2020-07-31</td>\n",
       "      <td>eGaming</td>\n",
       "      <td>Non Table Games</td>\n",
       "      <td>4</td>\n",
       "      <td>123</td>\n",
       "      <td>54</td>\n",
       "      <td>69</td>\n",
       "      <td>58</td>\n",
       "    </tr>\n",
       "    <tr>\n",
       "      <th>860227</th>\n",
       "      <td>15816105</td>\n",
       "      <td>2021-05-31</td>\n",
       "      <td>eGaming</td>\n",
       "      <td>Table Games</td>\n",
       "      <td>1</td>\n",
       "      <td>125</td>\n",
       "      <td>50</td>\n",
       "      <td>75</td>\n",
       "      <td>63</td>\n",
       "    </tr>\n",
       "    <tr>\n",
       "      <th>860228</th>\n",
       "      <td>13435803</td>\n",
       "      <td>2020-12-31</td>\n",
       "      <td>eGaming</td>\n",
       "      <td>Non Table Games</td>\n",
       "      <td>1</td>\n",
       "      <td>31</td>\n",
       "      <td>11</td>\n",
       "      <td>20</td>\n",
       "      <td>17</td>\n",
       "    </tr>\n",
       "    <tr>\n",
       "      <th>860229</th>\n",
       "      <td>12742712</td>\n",
       "      <td>2021-05-31</td>\n",
       "      <td>SportsBook</td>\n",
       "      <td>Prematch</td>\n",
       "      <td>3</td>\n",
       "      <td>278</td>\n",
       "      <td>560</td>\n",
       "      <td>-281</td>\n",
       "      <td>-236</td>\n",
       "    </tr>\n",
       "  </tbody>\n",
       "</table>\n",
       "<p>860230 rows × 9 columns</p>\n",
       "</div>"
      ],
      "text/plain": [
       "0      src_player_id ActivityMonth     Product       SubProduct  \\\n",
       "0           16585649    2020-08-31  SportsBook         Livebook   \n",
       "1           12845036    2019-05-31  SportsBook         Prematch   \n",
       "2           12720869    2021-06-30     eGaming  Non Table Games   \n",
       "3           18979743    2021-02-28     eGaming  Non Table Games   \n",
       "4           12580168    2020-12-31     eGaming  Non Table Games   \n",
       "...              ...           ...         ...              ...   \n",
       "860225      13439064    2019-09-30  SportsBook         Livebook   \n",
       "860226      16005291    2020-07-31     eGaming  Non Table Games   \n",
       "860227      15816105    2021-05-31     eGaming      Table Games   \n",
       "860228      13435803    2020-12-31     eGaming  Non Table Games   \n",
       "860229      12742712    2021-05-31  SportsBook         Prematch   \n",
       "\n",
       "0      ActivePlayerDays Bet_Amount Win_Amount Gross_Win Net_Gross_Win  \n",
       "0                     1        500          0       500           420  \n",
       "1                    28       1229       1178        42            35  \n",
       "2                     1         73         46        27            23  \n",
       "3                     1         52         22        30            25  \n",
       "4                     1         74         55        19            16  \n",
       "...                 ...        ...        ...       ...           ...  \n",
       "860225                2        255          0       255           214  \n",
       "860226                4        123         54        69            58  \n",
       "860227                1        125         50        75            63  \n",
       "860228                1         31         11        20            17  \n",
       "860229                3        278        560      -281          -236  \n",
       "\n",
       "[860230 rows x 9 columns]"
      ]
     },
     "execution_count": 21,
     "metadata": {},
     "output_type": "execute_result"
    }
   ],
   "source": [
    "player_activity"
   ]
  },
  {
   "cell_type": "code",
   "execution_count": 22,
   "metadata": {},
   "outputs": [
    {
     "data": {
      "text/plain": [
       "0\n",
       "src_player_id       0\n",
       "ActivityMonth       0\n",
       "Product             0\n",
       "SubProduct          0\n",
       "ActivePlayerDays    0\n",
       "Bet_Amount          0\n",
       "Win_Amount          0\n",
       "Gross_Win           0\n",
       "Net_Gross_Win       0\n",
       "dtype: int64"
      ]
     },
     "execution_count": 22,
     "metadata": {},
     "output_type": "execute_result"
    }
   ],
   "source": [
    "player_activity.isnull().sum()"
   ]
  },
  {
   "cell_type": "markdown",
   "metadata": {},
   "source": [
    "TABLE 3 Cleaning (Fixed_deposit)"
   ]
  },
  {
   "cell_type": "code",
   "execution_count": 23,
   "metadata": {},
   "outputs": [
    {
     "data": {
      "text/html": [
       "<div>\n",
       "<style scoped>\n",
       "    .dataframe tbody tr th:only-of-type {\n",
       "        vertical-align: middle;\n",
       "    }\n",
       "\n",
       "    .dataframe tbody tr th {\n",
       "        vertical-align: top;\n",
       "    }\n",
       "\n",
       "    .dataframe thead th {\n",
       "        text-align: right;\n",
       "    }\n",
       "</style>\n",
       "<table border=\"1\" class=\"dataframe\">\n",
       "  <thead>\n",
       "    <tr style=\"text-align: right;\">\n",
       "      <th></th>\n",
       "      <th>Src_Player_Id</th>\n",
       "      <th>First_Deposit_Date</th>\n",
       "      <th>First_Deposit_Channel</th>\n",
       "      <th>First_Deposit_Method</th>\n",
       "      <th>First_Deposit_Amount</th>\n",
       "    </tr>\n",
       "  </thead>\n",
       "  <tbody>\n",
       "    <tr>\n",
       "      <th>0</th>\n",
       "      <td>13472812</td>\n",
       "      <td>NaN</td>\n",
       "      <td>NaN</td>\n",
       "      <td>NaN</td>\n",
       "      <td>NaN</td>\n",
       "    </tr>\n",
       "    <tr>\n",
       "      <th>1</th>\n",
       "      <td>13331793</td>\n",
       "      <td>NaN</td>\n",
       "      <td>NaN</td>\n",
       "      <td>NaN</td>\n",
       "      <td>NaN</td>\n",
       "    </tr>\n",
       "    <tr>\n",
       "      <th>2</th>\n",
       "      <td>13116242</td>\n",
       "      <td>NaN</td>\n",
       "      <td>NaN</td>\n",
       "      <td>NaN</td>\n",
       "      <td>NaN</td>\n",
       "    </tr>\n",
       "    <tr>\n",
       "      <th>3</th>\n",
       "      <td>12689016</td>\n",
       "      <td>NaN</td>\n",
       "      <td>NaN</td>\n",
       "      <td>NaN</td>\n",
       "      <td>NaN</td>\n",
       "    </tr>\n",
       "    <tr>\n",
       "      <th>4</th>\n",
       "      <td>12681525</td>\n",
       "      <td>NaN</td>\n",
       "      <td>NaN</td>\n",
       "      <td>NaN</td>\n",
       "      <td>NaN</td>\n",
       "    </tr>\n",
       "  </tbody>\n",
       "</table>\n",
       "</div>"
      ],
      "text/plain": [
       "   Src_Player_Id First_Deposit_Date First_Deposit_Channel  \\\n",
       "0       13472812                NaN                   NaN   \n",
       "1       13331793                NaN                   NaN   \n",
       "2       13116242                NaN                   NaN   \n",
       "3       12689016                NaN                   NaN   \n",
       "4       12681525                NaN                   NaN   \n",
       "\n",
       "  First_Deposit_Method  First_Deposit_Amount  \n",
       "0                  NaN                   NaN  \n",
       "1                  NaN                   NaN  \n",
       "2                  NaN                   NaN  \n",
       "3                  NaN                   NaN  \n",
       "4                  NaN                   NaN  "
      ]
     },
     "execution_count": 23,
     "metadata": {},
     "output_type": "execute_result"
    }
   ],
   "source": [
    "fixed_deposit.head()"
   ]
  },
  {
   "cell_type": "code",
   "execution_count": 25,
   "metadata": {},
   "outputs": [
    {
     "data": {
      "text/plain": [
       "Src_Player_Id                 0\n",
       "First_Deposit_Date       165524\n",
       "First_Deposit_Channel    165524\n",
       "First_Deposit_Method     165524\n",
       "First_Deposit_Amount     165524\n",
       "dtype: int64"
      ]
     },
     "execution_count": 25,
     "metadata": {},
     "output_type": "execute_result"
    }
   ],
   "source": [
    "fixed_deposit.isnull().sum()"
   ]
  },
  {
   "cell_type": "code",
   "execution_count": 26,
   "metadata": {},
   "outputs": [
    {
     "data": {
      "text/plain": [
       "(292785, 5)"
      ]
     },
     "execution_count": 26,
     "metadata": {},
     "output_type": "execute_result"
    }
   ],
   "source": [
    "fixed_deposit.shape"
   ]
  },
  {
   "cell_type": "code",
   "execution_count": 28,
   "metadata": {},
   "outputs": [],
   "source": [
    "fixed_deposit=fixed_deposit.dropna()"
   ]
  },
  {
   "cell_type": "code",
   "execution_count": 31,
   "metadata": {},
   "outputs": [
    {
     "data": {
      "text/plain": [
       "Src_Player_Id            0\n",
       "First_Deposit_Date       0\n",
       "First_Deposit_Channel    0\n",
       "First_Deposit_Method     0\n",
       "First_Deposit_Amount     0\n",
       "dtype: int64"
      ]
     },
     "execution_count": 31,
     "metadata": {},
     "output_type": "execute_result"
    }
   ],
   "source": [
    "fixed_deposit.isnull().sum()"
   ]
  },
  {
   "cell_type": "markdown",
   "metadata": {},
   "source": [
    "TABLE 4 Cleaning (First_Bet)"
   ]
  },
  {
   "cell_type": "code",
   "execution_count": 45,
   "metadata": {},
   "outputs": [
    {
     "data": {
      "text/html": [
       "<div>\n",
       "<style scoped>\n",
       "    .dataframe tbody tr th:only-of-type {\n",
       "        vertical-align: middle;\n",
       "    }\n",
       "\n",
       "    .dataframe tbody tr th {\n",
       "        vertical-align: top;\n",
       "    }\n",
       "\n",
       "    .dataframe thead th {\n",
       "        text-align: right;\n",
       "    }\n",
       "</style>\n",
       "<table border=\"1\" class=\"dataframe\">\n",
       "  <thead>\n",
       "    <tr style=\"text-align: right;\">\n",
       "      <th></th>\n",
       "      <th>Unnamed: 0</th>\n",
       "      <th>Unnamed: 1</th>\n",
       "      <th>Unnamed: 2</th>\n",
       "      <th>Unnamed: 3</th>\n",
       "      <th>Unnamed: 4</th>\n",
       "      <th>Unnamed: 5</th>\n",
       "      <th>Unnamed: 6</th>\n",
       "    </tr>\n",
       "  </thead>\n",
       "  <tbody>\n",
       "    <tr>\n",
       "      <th>0</th>\n",
       "      <td>Src_Player_Id</td>\n",
       "      <td>System_First_Bet_Datetime</td>\n",
       "      <td>System_First_BetSlip_Amt</td>\n",
       "      <td>System_First_Bet_Product_Group</td>\n",
       "      <td>System_First_Bet_Product</td>\n",
       "      <td>System_First_Bet_Channel</td>\n",
       "      <td>System_First_Bet_Platform</td>\n",
       "    </tr>\n",
       "    <tr>\n",
       "      <th>1</th>\n",
       "      <td>15643431</td>\n",
       "      <td>2020-10-09 03:57:29</td>\n",
       "      <td>3</td>\n",
       "      <td>eGaming</td>\n",
       "      <td>Non Table Games</td>\n",
       "      <td>Online</td>\n",
       "      <td>Mobile</td>\n",
       "    </tr>\n",
       "    <tr>\n",
       "      <th>2</th>\n",
       "      <td>13593034</td>\n",
       "      <td>2019-09-27 15:03:58</td>\n",
       "      <td>10</td>\n",
       "      <td>Sports</td>\n",
       "      <td>Prematch</td>\n",
       "      <td>Online</td>\n",
       "      <td>Mobile</td>\n",
       "    </tr>\n",
       "    <tr>\n",
       "      <th>3</th>\n",
       "      <td>15894194</td>\n",
       "      <td>2021-02-28 02:22:07</td>\n",
       "      <td>2</td>\n",
       "      <td>eGaming</td>\n",
       "      <td>Non Table Games</td>\n",
       "      <td>Online</td>\n",
       "      <td>Web</td>\n",
       "    </tr>\n",
       "    <tr>\n",
       "      <th>4</th>\n",
       "      <td>13238000</td>\n",
       "      <td>2019-07-08 10:39:45</td>\n",
       "      <td>0</td>\n",
       "      <td>eGaming</td>\n",
       "      <td>Non Table Games</td>\n",
       "      <td>Online</td>\n",
       "      <td>Mobile</td>\n",
       "    </tr>\n",
       "  </tbody>\n",
       "</table>\n",
       "</div>"
      ],
      "text/plain": [
       "      Unnamed: 0                 Unnamed: 1                Unnamed: 2  \\\n",
       "0  Src_Player_Id  System_First_Bet_Datetime  System_First_BetSlip_Amt   \n",
       "1       15643431        2020-10-09 03:57:29                         3   \n",
       "2       13593034        2019-09-27 15:03:58                        10   \n",
       "3       15894194        2021-02-28 02:22:07                         2   \n",
       "4       13238000        2019-07-08 10:39:45                         0   \n",
       "\n",
       "                       Unnamed: 3                Unnamed: 4  \\\n",
       "0  System_First_Bet_Product_Group  System_First_Bet_Product   \n",
       "1                         eGaming           Non Table Games   \n",
       "2                          Sports                  Prematch   \n",
       "3                         eGaming           Non Table Games   \n",
       "4                         eGaming           Non Table Games   \n",
       "\n",
       "                 Unnamed: 5                 Unnamed: 6  \n",
       "0  System_First_Bet_Channel  System_First_Bet_Platform  \n",
       "1                    Online                     Mobile  \n",
       "2                    Online                     Mobile  \n",
       "3                    Online                        Web  \n",
       "4                    Online                     Mobile  "
      ]
     },
     "execution_count": 45,
     "metadata": {},
     "output_type": "execute_result"
    }
   ],
   "source": [
    "first_bet.head()"
   ]
  },
  {
   "cell_type": "code",
   "execution_count": 46,
   "metadata": {},
   "outputs": [],
   "source": [
    "first_bet.columns=first_bet.iloc[0]\n",
    "first_bet=first_bet[1:]\n",
    "first_bet=first_bet.reset_index(drop=True)"
   ]
  },
  {
   "cell_type": "code",
   "execution_count": 47,
   "metadata": {},
   "outputs": [
    {
     "data": {
      "text/html": [
       "<div>\n",
       "<style scoped>\n",
       "    .dataframe tbody tr th:only-of-type {\n",
       "        vertical-align: middle;\n",
       "    }\n",
       "\n",
       "    .dataframe tbody tr th {\n",
       "        vertical-align: top;\n",
       "    }\n",
       "\n",
       "    .dataframe thead th {\n",
       "        text-align: right;\n",
       "    }\n",
       "</style>\n",
       "<table border=\"1\" class=\"dataframe\">\n",
       "  <thead>\n",
       "    <tr style=\"text-align: right;\">\n",
       "      <th></th>\n",
       "      <th>Src_Player_Id</th>\n",
       "      <th>System_First_Bet_Datetime</th>\n",
       "      <th>System_First_BetSlip_Amt</th>\n",
       "      <th>System_First_Bet_Product_Group</th>\n",
       "      <th>System_First_Bet_Product</th>\n",
       "      <th>System_First_Bet_Channel</th>\n",
       "      <th>System_First_Bet_Platform</th>\n",
       "    </tr>\n",
       "  </thead>\n",
       "  <tbody>\n",
       "    <tr>\n",
       "      <th>0</th>\n",
       "      <td>15643431</td>\n",
       "      <td>2020-10-09 03:57:29</td>\n",
       "      <td>3</td>\n",
       "      <td>eGaming</td>\n",
       "      <td>Non Table Games</td>\n",
       "      <td>Online</td>\n",
       "      <td>Mobile</td>\n",
       "    </tr>\n",
       "    <tr>\n",
       "      <th>1</th>\n",
       "      <td>13593034</td>\n",
       "      <td>2019-09-27 15:03:58</td>\n",
       "      <td>10</td>\n",
       "      <td>Sports</td>\n",
       "      <td>Prematch</td>\n",
       "      <td>Online</td>\n",
       "      <td>Mobile</td>\n",
       "    </tr>\n",
       "    <tr>\n",
       "      <th>2</th>\n",
       "      <td>15894194</td>\n",
       "      <td>2021-02-28 02:22:07</td>\n",
       "      <td>2</td>\n",
       "      <td>eGaming</td>\n",
       "      <td>Non Table Games</td>\n",
       "      <td>Online</td>\n",
       "      <td>Web</td>\n",
       "    </tr>\n",
       "    <tr>\n",
       "      <th>3</th>\n",
       "      <td>13238000</td>\n",
       "      <td>2019-07-08 10:39:45</td>\n",
       "      <td>0</td>\n",
       "      <td>eGaming</td>\n",
       "      <td>Non Table Games</td>\n",
       "      <td>Online</td>\n",
       "      <td>Mobile</td>\n",
       "    </tr>\n",
       "    <tr>\n",
       "      <th>4</th>\n",
       "      <td>12866848</td>\n",
       "      <td>2019-04-27 14:20:27</td>\n",
       "      <td>0</td>\n",
       "      <td>eGaming</td>\n",
       "      <td>Non Table Games</td>\n",
       "      <td>Online</td>\n",
       "      <td>Mobile</td>\n",
       "    </tr>\n",
       "  </tbody>\n",
       "</table>\n",
       "</div>"
      ],
      "text/plain": [
       "0 Src_Player_Id System_First_Bet_Datetime System_First_BetSlip_Amt  \\\n",
       "0      15643431       2020-10-09 03:57:29                        3   \n",
       "1      13593034       2019-09-27 15:03:58                       10   \n",
       "2      15894194       2021-02-28 02:22:07                        2   \n",
       "3      13238000       2019-07-08 10:39:45                        0   \n",
       "4      12866848       2019-04-27 14:20:27                        0   \n",
       "\n",
       "0 System_First_Bet_Product_Group System_First_Bet_Product  \\\n",
       "0                        eGaming          Non Table Games   \n",
       "1                         Sports                 Prematch   \n",
       "2                        eGaming          Non Table Games   \n",
       "3                        eGaming          Non Table Games   \n",
       "4                        eGaming          Non Table Games   \n",
       "\n",
       "0 System_First_Bet_Channel System_First_Bet_Platform  \n",
       "0                   Online                    Mobile  \n",
       "1                   Online                    Mobile  \n",
       "2                   Online                       Web  \n",
       "3                   Online                    Mobile  \n",
       "4                   Online                    Mobile  "
      ]
     },
     "execution_count": 47,
     "metadata": {},
     "output_type": "execute_result"
    }
   ],
   "source": [
    "first_bet.head()"
   ]
  },
  {
   "cell_type": "code",
   "execution_count": 48,
   "metadata": {},
   "outputs": [
    {
     "data": {
      "text/plain": [
       "0\n",
       "Src_Player_Id                          0\n",
       "System_First_Bet_Datetime         133619\n",
       "System_First_BetSlip_Amt          133619\n",
       "System_First_Bet_Product_Group    133619\n",
       "System_First_Bet_Product          133619\n",
       "System_First_Bet_Channel          133619\n",
       "System_First_Bet_Platform         133619\n",
       "dtype: int64"
      ]
     },
     "execution_count": 48,
     "metadata": {},
     "output_type": "execute_result"
    }
   ],
   "source": [
    "first_bet.isnull().sum()"
   ]
  },
  {
   "cell_type": "code",
   "execution_count": 49,
   "metadata": {},
   "outputs": [
    {
     "data": {
      "text/plain": [
       "(292785, 7)"
      ]
     },
     "execution_count": 49,
     "metadata": {},
     "output_type": "execute_result"
    }
   ],
   "source": [
    "first_bet.shape"
   ]
  },
  {
   "cell_type": "code",
   "execution_count": 50,
   "metadata": {},
   "outputs": [],
   "source": [
    "first_bet=first_bet.dropna()"
   ]
  },
  {
   "cell_type": "code",
   "execution_count": 51,
   "metadata": {},
   "outputs": [
    {
     "data": {
      "text/plain": [
       "0\n",
       "Src_Player_Id                     0\n",
       "System_First_Bet_Datetime         0\n",
       "System_First_BetSlip_Amt          0\n",
       "System_First_Bet_Product_Group    0\n",
       "System_First_Bet_Product          0\n",
       "System_First_Bet_Channel          0\n",
       "System_First_Bet_Platform         0\n",
       "dtype: int64"
      ]
     },
     "execution_count": 51,
     "metadata": {},
     "output_type": "execute_result"
    }
   ],
   "source": [
    "first_bet.isnull().sum()"
   ]
  },
  {
   "cell_type": "markdown",
   "metadata": {},
   "source": [
    "TABLE 5 Cleaning (Bonus COst)"
   ]
  },
  {
   "cell_type": "code",
   "execution_count": 52,
   "metadata": {},
   "outputs": [
    {
     "data": {
      "text/html": [
       "<div>\n",
       "<style scoped>\n",
       "    .dataframe tbody tr th:only-of-type {\n",
       "        vertical-align: middle;\n",
       "    }\n",
       "\n",
       "    .dataframe tbody tr th {\n",
       "        vertical-align: top;\n",
       "    }\n",
       "\n",
       "    .dataframe thead th {\n",
       "        text-align: right;\n",
       "    }\n",
       "</style>\n",
       "<table border=\"1\" class=\"dataframe\">\n",
       "  <thead>\n",
       "    <tr style=\"text-align: right;\">\n",
       "      <th></th>\n",
       "      <th>Src_PLAYER_ID</th>\n",
       "      <th>ActivityMonth</th>\n",
       "      <th>Product</th>\n",
       "      <th>BONUS_COST</th>\n",
       "    </tr>\n",
       "  </thead>\n",
       "  <tbody>\n",
       "    <tr>\n",
       "      <th>0</th>\n",
       "      <td>16051927</td>\n",
       "      <td>2020-06-30</td>\n",
       "      <td>eGaming</td>\n",
       "      <td>50</td>\n",
       "    </tr>\n",
       "    <tr>\n",
       "      <th>1</th>\n",
       "      <td>19309540</td>\n",
       "      <td>2021-02-28</td>\n",
       "      <td>eGaming</td>\n",
       "      <td>40</td>\n",
       "    </tr>\n",
       "    <tr>\n",
       "      <th>2</th>\n",
       "      <td>13176431</td>\n",
       "      <td>2020-01-31</td>\n",
       "      <td>eGaming</td>\n",
       "      <td>15</td>\n",
       "    </tr>\n",
       "    <tr>\n",
       "      <th>3</th>\n",
       "      <td>12405628</td>\n",
       "      <td>2019-02-28</td>\n",
       "      <td>SportsBook</td>\n",
       "      <td>30</td>\n",
       "    </tr>\n",
       "    <tr>\n",
       "      <th>4</th>\n",
       "      <td>17486248</td>\n",
       "      <td>2021-02-28</td>\n",
       "      <td>eGaming</td>\n",
       "      <td>25</td>\n",
       "    </tr>\n",
       "  </tbody>\n",
       "</table>\n",
       "</div>"
      ],
      "text/plain": [
       "   Src_PLAYER_ID ActivityMonth     Product  BONUS_COST\n",
       "0       16051927    2020-06-30     eGaming          50\n",
       "1       19309540    2021-02-28     eGaming          40\n",
       "2       13176431    2020-01-31     eGaming          15\n",
       "3       12405628    2019-02-28  SportsBook          30\n",
       "4       17486248    2021-02-28     eGaming          25"
      ]
     },
     "execution_count": 52,
     "metadata": {},
     "output_type": "execute_result"
    }
   ],
   "source": [
    "bonus_Cost.head()"
   ]
  },
  {
   "cell_type": "code",
   "execution_count": 53,
   "metadata": {},
   "outputs": [
    {
     "data": {
      "text/plain": [
       "Src_PLAYER_ID    0\n",
       "ActivityMonth    0\n",
       "Product          0\n",
       "BONUS_COST       0\n",
       "dtype: int64"
      ]
     },
     "execution_count": 53,
     "metadata": {},
     "output_type": "execute_result"
    }
   ],
   "source": [
    "bonus_Cost.isnull().sum()"
   ]
  },
  {
   "cell_type": "code",
   "execution_count": 54,
   "metadata": {},
   "outputs": [],
   "source": [
    "Player_details.to_csv(\"Player_details Cleaned.csv\")\n",
    "player_activity.to_csv(\"player_activity Cleaned.csv\")\n",
    "fixed_deposit.to_csv(\"fixed_deposit Cleaned.csv\")\n",
    "first_bet.to_csv(\"first_bet Cleaned.csv\")\n",
    "bonus_Cost.to_csv(\"bonus_Cost Cleaned.csv\")"
   ]
  },
  {
   "cell_type": "code",
   "execution_count": null,
   "metadata": {},
   "outputs": [],
   "source": []
  }
 ],
 "metadata": {
  "kernelspec": {
   "display_name": "Python 3",
   "language": "python",
   "name": "python3"
  },
  "language_info": {
   "codemirror_mode": {
    "name": "ipython",
    "version": 3
   },
   "file_extension": ".py",
   "mimetype": "text/x-python",
   "name": "python",
   "nbconvert_exporter": "python",
   "pygments_lexer": "ipython3",
   "version": "3.12.3"
  }
 },
 "nbformat": 4,
 "nbformat_minor": 2
}
