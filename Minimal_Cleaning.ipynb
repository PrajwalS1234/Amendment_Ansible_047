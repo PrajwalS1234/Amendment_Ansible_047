{
  "cells": [
    {
      "cell_type": "code",
      "execution_count": null,
      "metadata": {
        "id": "HmO1PGGrbNLz"
      },
      "outputs": [],
      "source": [
        "# Importing important libraries\n",
        "import numpy as np\n",
        "import pandas as pd\n",
        "import seaborn as sns\n",
        "import matplotlib.pyplot as plt\n",
        "%matplotlib inline\n",
        "import warnings\n",
        "warnings.filterwarnings('ignore')\n",
        "import requests\n",
        "import openpyxl\n",
        "\n"
      ]
    },
    {
      "cell_type": "code",
      "execution_count": null,
      "metadata": {
        "id": "iqRYGPYSbNzU"
      },
      "outputs": [],
      "source": [
        "bonus_cost_link = 'https://docs.google.com/uc?export=download&id=12xPdp6PEJEJP8qyVaaj7Qey6ZR0AkbVx' # 1 sheet\n",
        "first_bet_link = 'https://docs.google.com/uc?export=download&id=1_s8Kbv7KgdJlY1eJueW6hKiI2gfAF1PR' # 1 sheet\n",
        "first_deposit_link = 'https://docs.google.com/uc?export=download&id=18QgUwvY_yQml8bYa21chHS0AlaeAE45N' # 2 sheets\n",
        "player_activity_link = 'https://docs.google.com/uc?export=download&id=16037oorbl30sMudPRQKNGO5xXg27773a' # 2 sheets\n",
        "player_details_link = 'https://docs.google.com/uc?export=download&id=1WZ6PBVqSRj77feQHNojp9Q5a5ibCfVJz' # 2 sheets"
      ]
    },
    {
      "cell_type": "code",
      "execution_count": null,
      "metadata": {
        "colab": {
          "background_save": true
        },
        "id": "B2WxMajVbPrQ"
      },
      "outputs": [],
      "source": [
        "player_details = pd.read_excel(player_details_link, sheet_name=0)\n",
        "bonus_cost = pd.read_excel(bonus_cost_link, sheet_name=0)\n",
        "first_bet = pd.read_excel(first_bet_link, sheet_name=0)\n",
        "first_deposit = pd.read_excel(first_deposit_link, sheet_name=0)"
      ]
    },
    {
      "cell_type": "code",
      "execution_count": null,
      "metadata": {
        "id": "37ir7JwJqbdl"
      },
      "outputs": [],
      "source": [
        "player_activity = pd.read_excel(player_activity_link, sheet_name=0)"
      ]
    },
    {
      "cell_type": "code",
      "execution_count": null,
      "metadata": {
        "colab": {
          "background_save": true
        },
        "id": "f25QkSnzsJCo"
      },
      "outputs": [],
      "source": [
        "pa = player_activity.copy()"
      ]
    },
    {
      "cell_type": "code",
      "execution_count": null,
      "metadata": {
        "id": "OnkeAboDuHjU"
      },
      "outputs": [],
      "source": [
        "print(pa.info())"
      ]
    },
    {
      "cell_type": "code",
      "execution_count": null,
      "metadata": {
        "id": "x9DPDkXFxw3S"
      },
      "outputs": [],
      "source": [
        "print(pa)"
      ]
    },
    {
      "cell_type": "code",
      "execution_count": null,
      "metadata": {
        "id": "hL8dZ0x6uK_a"
      },
      "outputs": [],
      "source": []
    },
    {
      "cell_type": "code",
      "execution_count": null,
      "metadata": {
        "id": "vAQSxH4Ree2H"
      },
      "outputs": [],
      "source": [
        "pdd = player_details.copy()\n",
        "bc = bonus_cost.copy()\n",
        "fb = first_bet.copy()\n",
        "fd = first_deposit.copy()"
      ]
    },
    {
      "cell_type": "code",
      "execution_count": null,
      "metadata": {
        "id": "dGOVqAz5cQ3K"
      },
      "outputs": [],
      "source": [
        "# prompt: remove first column (NaN column) and then Unname: 0 row completely and make the first row the header  from pdd\n",
        "\n",
        "# Drop the first column (NaN column)\n",
        "pdd = pdd.iloc[:, 1:]\n",
        "\n",
        "# Reset the index to make the first row the header\n",
        "pdd = pdd.reset_index(drop=True)\n",
        "\n",
        "# Remove the 'Unnamed: 0' column if it exists\n",
        "if 'Unnamed: 0' in pdd.columns:\n",
        "  pdd = pdd.drop('Unnamed: 0', axis=1)\n",
        "\n",
        "# Set the first row as the header\n",
        "pdd.columns = pdd.iloc[0]\n",
        "pdd = pdd[1:]\n"
      ]
    },
    {
      "cell_type": "code",
      "execution_count": null,
      "metadata": {
        "id": "RkJjukm7et0Y"
      },
      "outputs": [],
      "source": [
        "print(\"The length of Player Details is\", len(pdd) - 1)"
      ]
    },
    {
      "cell_type": "code",
      "execution_count": null,
      "metadata": {
        "id": "LGVny2NpmKWr"
      },
      "outputs": [],
      "source": [
        "# prompt: remove first column (NaN column) and then Unname: 0 row completely and make the first row the header  from bc, fd, fb\n",
        "\n",
        "# Bonus Cost\n",
        "bc = bc.iloc[:, 1:]  # Drop the first column (NaN column)\n",
        "bc = bc.reset_index(drop=True)  # Reset the index\n",
        "if 'Unnamed: 0' in bc.columns:\n",
        "  bc = bc.drop('Unnamed: 0', axis=1)  # Remove 'Unnamed: 0' column\n",
        "bc.columns = bc.iloc[0]  # Set first row as header\n",
        "bc = bc[1:]\n",
        "print(\"bc\", bc)\n",
        "print()\n",
        "print()\n",
        "\n",
        "# First Deposit\n",
        "fd = fd.iloc[:, 1:]\n",
        "fd = fd.reset_index(drop=True)\n",
        "if 'Unnamed: 0' in fd.columns:\n",
        "  fd = fd.drop('Unnamed: 0', axis=1)\n",
        "fd.columns = fd.iloc[0]\n",
        "fd = fd[1:]\n",
        "print(\"fd\", fd)\n",
        "print()\n",
        "print()\n",
        "\n",
        "# First Bet\n",
        "fb = fb.iloc[:, 1:]\n",
        "fb = fb.reset_index(drop=True)\n",
        "if 'Unnamed: 0' in fb.columns:\n",
        "  fb = fb.drop('Unnamed: 0', axis=1)\n",
        "fb.columns = fb.iloc[0]\n",
        "fb = fb[1:]\n",
        "print(\"fb\", fb)\n",
        "print()\n",
        "print()\n",
        "\n",
        "# Player Activity\n",
        "pa = pa.iloc[:, 1:]\n",
        "pa = pa.reset_index(drop=True)\n",
        "if 'Unnamed: 0' in pa.columns:\n",
        "  pa = pa.drop('Unnamed: 0', axis=1)\n",
        "pa.columns = pa.iloc[0]\n",
        "pa = pa[1:]\n",
        "print(\"pa\", pa)"
      ]
    },
    {
      "cell_type": "code",
      "execution_count": null,
      "metadata": {
        "id": "8sBjLv8jmQNj"
      },
      "outputs": [],
      "source": [
        "# prompt: I want to know the number of entries where the Src_Player_Id is unique in pdd\n",
        "\n",
        "# Count unique Src_Player_Ids\n",
        "num_unique_players = pdd['Src_Player_Id'].nunique()\n",
        "\n",
        "print(\"Number of unique Src_Player_Ids:\", num_unique_players)\n"
      ]
    },
    {
      "cell_type": "code",
      "execution_count": null,
      "metadata": {
        "id": "t1LCTHugm_W4"
      },
      "outputs": [],
      "source": [
        "# prompt: create a dataframe clean_fd where only entries who's Src_Player_Id is in pdd are included.\n",
        "# Also, group them by Src_Player_ID and only keep the first entry\n",
        "# Also, filter out the entries where First_Deposit_Date First_Deposit_Channel First_Deposit_Method First_Deposit_Amount columns all have the value NaN\n",
        "\n",
        "# Filter fd based on Src_Player_Id in pdd\n",
        "clean_fd = fd[fd['Src_Player_Id'].isin(pdd['Src_Player_Id'])]\n",
        "\n",
        "# Group by Src_Player_ID and keep the first entry\n",
        "clean_fd = clean_fd.groupby('Src_Player_Id').first().reset_index()\n",
        "\n",
        "# Filter out entries with all NaN values in specified columns\n",
        "clean_fd = clean_fd.dropna(subset=['First_Deposit_Date', 'First_Deposit_Channel', 'First_Deposit_Method', 'First_Deposit_Amount'], how='all')\n",
        "\n",
        "converted = len(clean_fd)\n",
        "\n",
        "\n",
        "# Convert rate is # important\n",
        "Rate_of_conversion = (converted/num_unique_players) * 100\n",
        "print(round(Rate_of_conversion,2))\n"
      ]
    },
    {
      "cell_type": "code",
      "execution_count": null,
      "metadata": {
        "id": "bO4gszY_qSAz"
      },
      "outputs": [],
      "source": [
        "print(\"pa\",\"\\n \\n\", pa)\n",
        "print(\"pd\",\"\\n \\n\", pd)\n",
        "print(\"bc\",\"\\n \\n\", bc)\n",
        "print(\"fb\",\"\\n \\n\", fb)\n",
        "print(\"fd\",\"\\n \\n\", fd)"
      ]
    },
    {
      "cell_type": "code",
      "execution_count": null,
      "metadata": {
        "id": "u5kxnKv264AY"
      },
      "outputs": [],
      "source": [
        "# prompt: export everything to csv, I want to export it to mysql. and keep the name, don't change pdd to player_details and similar\n",
        "\n",
        "pdd.to_csv('pdd.csv', index=False)\n",
        "pa.to_csv('pa.csv', index=False)\n",
        "bc.to_csv('bc.csv', index=False)\n",
        "fb.to_csv('fb.csv', index=False)\n",
        "fd.to_csv('fd.csv', index=False)\n"
      ]
    },
    {
      "cell_type": "code",
      "execution_count": null,
      "metadata": {
        "id": "m0cXBhKz_Dwu"
      },
      "outputs": [],
      "source": [
        "# prompt: count the number of entries in fd.csv\n",
        "\n",
        "!wc -l fd.csv\n"
      ]
    },
    {
      "cell_type": "code",
      "execution_count": null,
      "metadata": {
        "id": "thaRbVaemeed"
      },
      "outputs": [],
      "source": []
    }
  ],
  "metadata": {
    "colab": {
      "provenance": []
    },
    "kernelspec": {
      "display_name": "Python 3",
      "name": "python3"
    },
    "language_info": {
      "name": "python"
    }
  },
  "nbformat": 4,
  "nbformat_minor": 0
}